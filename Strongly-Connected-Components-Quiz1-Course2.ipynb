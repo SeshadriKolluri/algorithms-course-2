{
 "cells": [
  {
   "cell_type": "markdown",
   "metadata": {},
   "source": [
    "Quiz #1 in Graph Search, Shortest Paths and Data Structures Course\n",
    "\n",
    "Topic: Strongly Connected Components in a Graph"
   ]
  },
  {
   "cell_type": "code",
   "execution_count": 10,
   "metadata": {},
   "outputs": [
    {
     "name": "stdout",
     "output_type": "stream",
     "text": [
      "12\n",
      "{'1': ['2'], '2': ['3', '4', '5'], '3': ['6'], '4': ['5', '7'], '5': ['2', '6', '7'], '6': ['3', '8'], '7': ['8', '10'], '8': ['7'], '10': ['9', '11'], '9': ['7'], '11': ['12'], '12': ['10']}\n",
      "{'2': ['1', '5'], '1': [], '3': ['2', '6'], '4': ['2'], '5': ['2', '4'], '6': ['3', '5'], '7': ['4', '5', '8', '9'], '8': ['6', '7'], '10': ['7', '12'], '9': ['10'], '11': ['10'], '12': ['11']}\n",
      "[]\n",
      "[['8', '9', '12', '11', '10', '7'], ['5', '4', '2'], ['6', '3'], ['1']]\n",
      "6\n",
      "3\n",
      "2\n",
      "1\n"
     ]
    }
   ],
   "source": [
    "#read the file containing the graph information\n",
    "import sys\n",
    "sys.setrecursionlimit(1500000)\n",
    "f = open('SCC1.txt','r')\n",
    "\n",
    "forward_graph = {}\n",
    "reverse_graph = {}\n",
    "explored = {}\n",
    "\n",
    "edges = []\n",
    "for line in f:\n",
    "    if len(line) > 1:\n",
    "        fields = line.strip().split(' ')\n",
    "        edges.append(fields)\n",
    "        if fields[0] in forward_graph:\n",
    "            forward_graph[fields[0]].append(fields[1])\n",
    "        else:\n",
    "            forward_graph[fields[0]] = fields[1:]\n",
    "        if fields[1] not in forward_graph:\n",
    "            forward_graph[fields[1]] = []\n",
    "        \n",
    "        explored[fields[1]] = 0\n",
    "        explored[fields[0]] = 0\n",
    "\n",
    "        if fields[1] in reverse_graph:\n",
    "            reverse_graph[fields[1]].append(fields[0])\n",
    "        else:\n",
    "            reverse_graph[fields[1]] = fields[:1]\n",
    "        if fields[0] not in reverse_graph:\n",
    "            reverse_graph[fields[0]] = []\n",
    "            \n",
    "print(len(forward_graph))\n",
    "\n",
    "print(forward_graph)\n",
    "print(reverse_graph)\n",
    "\n",
    "        \n",
    "order_for_scc = []\n",
    "#marked = [0] * len(reverse_graph)\n",
    "\n",
    "def explore(graph,node,explored):\n",
    "    if explored[node] == 0:\n",
    "        explored[node] = 1\n",
    "        for subnode in graph[node]:\n",
    "            if explored[subnode] == 0:\n",
    "                explore(graph,subnode,explored)\n",
    "        order_for_scc.insert(0,node)\n",
    "        current_scc.append(node)\n",
    "\n",
    "print(order_for_scc)\n",
    "\n",
    "for node in reverse_graph:\n",
    "    current_scc = []\n",
    "    explore(reverse_graph,node,explored)\n",
    "\n",
    "\n",
    "for node in order_for_scc:\n",
    "    explored[node] = 0\n",
    "\n",
    "call_order = order_for_scc[:]\n",
    "\n",
    "scc_list = []\n",
    "for node in call_order:\n",
    "    current_scc = []\n",
    "    explore(forward_graph,node,explored)\n",
    "    if len(current_scc)>0:\n",
    "        scc_list.append(current_scc)\n",
    "\n",
    "scc_list.sort(key=len,reverse=True)\n",
    "\n",
    "print(scc_list)\n",
    "\n",
    "for item in scc_list[:6]:\n",
    "    print(len(item))\n",
    "\n",
    "#print(order_for_scc)"
   ]
  },
  {
   "cell_type": "code",
   "execution_count": null,
   "metadata": {
    "collapsed": true
   },
   "outputs": [],
   "source": []
  }
 ],
 "metadata": {
  "kernelspec": {
   "display_name": "Python 3",
   "language": "python",
   "name": "python3"
  },
  "language_info": {
   "codemirror_mode": {
    "name": "ipython",
    "version": 3
   },
   "file_extension": ".py",
   "mimetype": "text/x-python",
   "name": "python",
   "nbconvert_exporter": "python",
   "pygments_lexer": "ipython3",
   "version": "3.6.1"
  }
 },
 "nbformat": 4,
 "nbformat_minor": 2
}
